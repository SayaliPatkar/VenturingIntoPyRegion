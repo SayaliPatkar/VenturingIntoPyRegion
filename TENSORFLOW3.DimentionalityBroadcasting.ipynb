{
 "cells": [
  {
   "cell_type": "code",
   "execution_count": 1,
   "metadata": {},
   "outputs": [],
   "source": [
    "import tensorflow as tf\n",
    "import os\n"
   ]
  },
  {
   "cell_type": "code",
   "execution_count": 2,
   "metadata": {},
   "outputs": [
    {
     "name": "stdout",
     "output_type": "stream",
     "text": [
      "\n",
      "The value of c with seesion but not 'in session scope' :  7\n",
      "\n",
      "c1.eval() doesnt work outside session scope\n",
      "\n"
     ]
    }
   ],
   "source": [
    "a = tf.constant(3, name='a')\n",
    "b = tf.constant(4, name='b')\n",
    "c = a + b\n",
    "\n",
    "sess = tf.Session()\n",
    "print(\"\\nThe value of c with seesion but not 'in session scope' :  %d\\n\" % (sess.run(c)))\n",
    "\n",
    "c1 = tf.add(a,b)\n",
    "print(\"c1.eval() doesnt work outside session scope\\n\")\n",
    "\n",
    "a1 = tf.constant([1, 2, 3], name='a1')\n",
    "b1 = tf.constant([4, 5, 6], name='b1')\n",
    "add_op = a1 + b1\n",
    "add_op1 = a1 + b\n",
    "\n",
    "a2 = tf.constant([[1, 2, 3], [4, 5, 6]], name='a2')\n",
    "b2 = tf.constant([[1, 2, 3], [4, 5, 6]], name='b2')\n",
    "add_op2 = a2 + b2\n",
    "add_op3 = a2 + b\n",
    "add_op4 = a2 + b1\n",
    "b3 =tf.constant( [[100], [101]], name='b3')\n",
    "add_op5 = a2 + b3"
   ]
  },
  {
   "cell_type": "code",
   "execution_count": 3,
   "metadata": {},
   "outputs": [
    {
     "name": "stdout",
     "output_type": "stream",
     "text": [
      "The value of c in session scope :  7\n",
      "\n",
      "The value of c in session scope with eval (only works in session scope)):  7\n",
      "\n",
      "The value of [1, 2, 3] + [4, 5, 6] in session scope :\n",
      "[5 7 9]\n",
      "\n",
      "The value of broadcasting, [1, 2, 3]+ 4 result in session scope :  \n",
      "\n",
      "[5 6 7]\n",
      "\n",
      "The value of broadcasting, [[1, 2, 3], [4, 5, 6]]+ [[1, 2, 3], [4, 5, 6]] result in session scope :  \n",
      "\n",
      "[[ 2  4  6]\n",
      " [ 8 10 12]]\n",
      "\n",
      "The value of broadcasting, [[1, 2, 3], [4, 5, 6]]+ 4 result in session scope :  \n",
      "\n",
      "[[ 5  6  7]\n",
      " [ 8  9 10]]\n",
      "\n",
      "The value of broadcasting, [[1, 2, 3], [4, 5, 6]]+ [4, 5, 6] result in session scope :  \n",
      "\n",
      "[[ 5  7  9]\n",
      " [ 8 10 12]]\n",
      "\n",
      "**************************************************************************\n",
      "For broadcasting to work, both operands have some dimension in common, for eg no of rows in a = no of rows in b\n",
      " or no of columns in a = no of rows in b\n",
      "It will simply not work for cross match, eg no of rows in a = no of columns in b\n",
      "[[1, 2, 3], [4, 5, 6]]+ [100, 101] will NOT work but, \n",
      "[[1, 2, 3], [4, 5, 6]]+ [[100], [101]] will give result : \n",
      "[[101 102 103]\n",
      " [105 106 107]]\n",
      "\n",
      "**************************************************************************\n"
     ]
    }
   ],
   "source": [
    "with tf.Session() as session:\n",
    "    print(\"The value of c in session scope :  %d\\n\" % (session.run(c)))\n",
    "    print(\"The value of c in session scope with eval (only works in session scope)):  %d\\n\" % (c1.eval()))\n",
    "    os.system(\"pause\")\n",
    "    print(\"The value of [1, 2, 3] + [4, 5, 6] in session scope :\" )\n",
    "    print(session.run(add_op))\n",
    "    os.system(\"pause\")\n",
    "    print(\"\\nThe value of broadcasting, [1, 2, 3]+ 4 result in session scope :  \\n\" )\n",
    "    print(session.run(add_op1))\n",
    "    os.system(\"pause\")\n",
    "    print(\"\\nThe value of broadcasting, [[1, 2, 3], [4, 5, 6]]+ [[1, 2, 3], [4, 5, 6]] result in session scope :  \\n\" )\n",
    "    print(session.run(add_op2))\n",
    "    os.system(\"pause\")\n",
    "    print(\"\\nThe value of broadcasting, [[1, 2, 3], [4, 5, 6]]+ 4 result in session scope :  \\n\" )\n",
    "    print(session.run(add_op3))\n",
    "    os.system(\"pause\")\n",
    "    print(\"\\nThe value of broadcasting, [[1, 2, 3], [4, 5, 6]]+ [4, 5, 6] result in session scope :  \\n\" )\n",
    "    print(session.run(add_op4))\n",
    "    os.system(\"pause\")\n",
    "    print(\"\\n**************************************************************************\\nFor broadcasting to work, both operands have some dimension in common, for eg no of rows in a = no of rows in b\\n or no of columns in a = no of rows in b\")\n",
    "    print(\"It will simply not work for cross match, eg no of rows in a = no of columns in b\" )\n",
    "    print(\"[[1, 2, 3], [4, 5, 6]]+ [100, 101] will NOT work but, \\n[[1, 2, 3], [4, 5, 6]]+ [[100], [101]] will give result : \" )\n",
    "    print(session.run(add_op5))\n",
    "    print(\"\\n**************************************************************************\")"
   ]
  },
  {
   "cell_type": "code",
   "execution_count": null,
   "metadata": {},
   "outputs": [],
   "source": []
  }
 ],
 "metadata": {
  "kernelspec": {
   "display_name": "Python 3",
   "language": "python",
   "name": "python3"
  },
  "language_info": {
   "codemirror_mode": {
    "name": "ipython",
    "version": 3
   },
   "file_extension": ".py",
   "mimetype": "text/x-python",
   "name": "python",
   "nbconvert_exporter": "python",
   "pygments_lexer": "ipython3",
   "version": "3.6.2"
  }
 },
 "nbformat": 4,
 "nbformat_minor": 2
}
