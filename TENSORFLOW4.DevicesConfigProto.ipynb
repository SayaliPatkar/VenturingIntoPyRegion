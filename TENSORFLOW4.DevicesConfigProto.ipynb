{
 "cells": [
  {
   "cell_type": "code",
   "execution_count": 1,
   "metadata": {},
   "outputs": [],
   "source": [
    "# to better understand run this on cmd prompt rather than notebook\n",
    "import tensorflow as tf\n",
    "import os"
   ]
  },
  {
   "cell_type": "code",
   "execution_count": 2,
   "metadata": {},
   "outputs": [
    {
     "name": "stdout",
     "output_type": "stream",
     "text": [
      "**********************************************When device log placement is false**********************************\n",
      "**********************************************When you specifically choose amount of memory to be allocated to process**********************************\n",
      "[[22. 28.]\n",
      " [49. 64.]]\n",
      "**********************************************When you specifically choose CPU over visible GPUs**********************************\n",
      "**********************************************When device log placement is true**********************************\n",
      "[[22. 28.]\n",
      " [49. 64.]]\n",
      "**********************************************When GPU capacity is allocated as it is needed**********************************\n",
      "[[22. 28.]\n",
      " [49. 64.]]\n"
     ]
    }
   ],
   "source": [
    "# Creates a graph.\n",
    "a = tf.constant([1.0, 2.0, 3.0, 4.0, 5.0, 6.0], shape=[2, 3], name='a')\n",
    "b = tf.constant([1.0, 2.0, 3.0, 4.0, 5.0, 6.0], shape=[3, 2], name='b')\n",
    "c = tf.matmul(a, b)\n",
    "\n",
    "config1 = tf.ConfigProto()\n",
    "config1.gpu_options.per_process_gpu_memory_fraction = 0.4\n",
    "with tf.Session(config = config1) as sess:\n",
    "    print(\"**********************************************When device log placement is false**********************************\")\n",
    "    print(\"**********************************************When you specifically choose amount of memory to be allocated to process**********************************\")\n",
    "\n",
    "    # Runs the op.s\n",
    "    print(sess.run(c))\n",
    "os.system(\"pause\")\n",
    "# Creates a graph.\n",
    "\n",
    "# Creates a session with log_device_placement set to True.\n",
    "# enabling GPU/CPU usage log for every commands\n",
    "with tf.device('/cpu:0'):\n",
    "    with tf.Session(config=tf.ConfigProto(log_device_placement=True)) as sess1:\n",
    "        print(\"**********************************************When you specifically choose CPU over visible GPUs**********************************\")\n",
    "        print(\"**********************************************When device log placement is true**********************************\")\n",
    "        #by default visible GPU is added unless u specify the use of CPU only\n",
    "        a1 = tf.constant([1.0, 2.0, 3.0, 4.0, 5.0, 6.0], shape=[2, 3], name='a1')\n",
    "        b1 = tf.constant([1.0, 2.0, 3.0, 4.0, 5.0, 6.0], shape=[3, 2], name='b1')\n",
    "        c1 = tf.matmul(a1, b1)\n",
    "        #Creating TensorFlow device (/job:localhost/replica:0/task:0/device:GPU:0 with 3039 MB memory)\n",
    "        #-> physical GPU (device: 0, name: GeForce GTX 1050 Ti, pci bus id: 0000:01:00.0, compute capability: 6.1)\n",
    "        print(sess1.run(c1))\n",
    "        os.system(\"pause\")\n",
    "\n",
    "config = tf.ConfigProto()\n",
    "#allow minimum possible memory from the start\n",
    "config.gpu_options.allow_growth = True\n",
    "with tf.Session(config=config) as session:\n",
    "    print(\"**********************************************When GPU capacity is allocated as it is needed**********************************\")\n",
    "    a1 = tf.constant([1.0, 2.0, 3.0, 4.0, 5.0, 6.0], shape=[2, 3], name='a1')\n",
    "    b1 = tf.constant([1.0, 2.0, 3.0, 4.0, 5.0, 6.0], shape=[3, 2], name='b1')\n",
    "    c1 = tf.matmul(a1, b1)\n",
    "    #Creating TensorFlow device (/job:localhost/replica:0/task:0/device:GPU:0 with 0 MB memory)\n",
    "    #-> physical GPU (device: 0, name: GeForce GTX 1050 Ti, pci bus id: 0000:01:00.0, compute capability: 6.1)\n",
    "    print(session.run(c1))\n"
   ]
  },
  {
   "cell_type": "code",
   "execution_count": null,
   "metadata": {},
   "outputs": [],
   "source": []
  }
 ],
 "metadata": {
  "kernelspec": {
   "display_name": "Python 3",
   "language": "python",
   "name": "python3"
  },
  "language_info": {
   "codemirror_mode": {
    "name": "ipython",
    "version": 3
   },
   "file_extension": ".py",
   "mimetype": "text/x-python",
   "name": "python",
   "nbconvert_exporter": "python",
   "pygments_lexer": "ipython3",
   "version": "3.6.2"
  }
 },
 "nbformat": 4,
 "nbformat_minor": 2
}
