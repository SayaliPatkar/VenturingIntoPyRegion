{
 "cells": [
  {
   "cell_type": "code",
   "execution_count": 17,
   "metadata": {},
   "outputs": [],
   "source": [
    "import random\n",
    "    \n",
    "# Classes are blueprints describing proprties (attributes) and behaviours (methods) of an object\n",
    "class Student:\n",
    "    # class variables\n",
    "    num_students = 0 # to be raised for every new instance as soon as instance is created\n",
    "    fee_raise = 1.02 # default 2% raise in fees every year\n",
    "    \n",
    "    # constructin dunder method __init__\n",
    "    def __init__ (self, first, last, grade, fees):\n",
    "        self.first = first\n",
    "        self.last = last\n",
    "        self.grade = grade\n",
    "        self.fees = fees\n",
    "        self.email = first + '.' + last + '@university.com'\n",
    "        \n",
    "        # here we do not use self.num_students as \n",
    "        # we need this variable to increment for every new instance and should be same for all instances at any given time\n",
    "        Student.num_students += 1\n",
    "        \n",
    "    # every class method has minimum one argument, which is instance(self)\n",
    "    def get_fullname(self):\n",
    "        return '{} {}'.format(self.first, self.last)\n",
    "    \n",
    "    def get_revised_fees(self):\n",
    "        return self.fees * self.fee_raise\n",
    "\n",
    "    def revise_fees(self):\n",
    "        self.fees = self.fees * self.fee_raise\n",
    "    \n",
    "    # class methods have decorator/annottaion @classmethod and the first argument is now class(cls) and not the instance(self)\n",
    "    @classmethod\n",
    "    def set_fee_raise(cls, raise_amt):\n",
    "        cls.fee_raise = raise_amt\n",
    "        \n",
    "    @classmethod\n",
    "    def student_from_string(cls, s_string):\n",
    "        first, last, grade, fees = s_string.split(\"-\")\n",
    "        return cls(first, last, grade, fees)\n",
    "    \n",
    "    # if the functionality need not really make changes in any of the instance or class attributes\n",
    "    # this functionality should be written in static method\n",
    "    @staticmethod\n",
    "    def get_random_catagory(cat_count):\n",
    "        # to avoid cheating, management wants to set 4 question papaer categories\n",
    "        # each student will get question paper of random catagory, catagories to be decided super randomly and in highly inobvious manner\n",
    "    \n",
    "        return random.randint(1,cat_count)\n",
    "        "
   ]
  },
  {
   "cell_type": "code",
   "execution_count": 13,
   "metadata": {},
   "outputs": [],
   "source": [
    "s1 = Student('Sayali','Patkar','1.7', 200)\n",
    "s2 = Student('Imaginary','Intelligent','1', 100)"
   ]
  },
  {
   "cell_type": "code",
   "execution_count": 14,
   "metadata": {},
   "outputs": [
    {
     "name": "stdout",
     "output_type": "stream",
     "text": [
      "1.02\n",
      "1.02\n",
      "1.02\n",
      "1.03\n",
      "1.03\n",
      "1.03\n"
     ]
    }
   ],
   "source": [
    "# initially the class variables \n",
    "print(Student.fee_raise)\n",
    "print(s1.fee_raise)\n",
    "print(s2.fee_raise)\n",
    "\n",
    "Student.set_fee_raise(1.03)\n",
    "\n",
    "# class method to change the class variables \n",
    "# changes are reflected at all the instances\n",
    "print(Student.fee_raise)\n",
    "print(s1.fee_raise)\n",
    "print(s2.fee_raise)\n",
    "\n"
   ]
  },
  {
   "cell_type": "code",
   "execution_count": 15,
   "metadata": {},
   "outputs": [
    {
     "name": "stdout",
     "output_type": "stream",
     "text": [
      "Imaginary.Average@university.com\n",
      "Imaginary.Average@university.com\n",
      "Imaginary.Belowavg@university.com\n"
     ]
    }
   ],
   "source": [
    "# using class methods as constructors\n",
    "s3_str = \"Imaginary-Average-2.7-300\"\n",
    "first, last, grade, fees = s3_str.split(\"-\")\n",
    "s3 = Student(first, last, grade, fees)\n",
    "print(s3.email)\n",
    "\n",
    "s4_str = \"Imaginary-Belowavg-3.7-400\"\n",
    "s4 = Student.student_from_string(s4_str)\n",
    "# since all set variables here are instance variables not class variables, only instance is affected here\n",
    "print(s3.email)\n",
    "print(s4.email)"
   ]
  },
  {
   "cell_type": "code",
   "execution_count": 19,
   "metadata": {},
   "outputs": [
    {
     "name": "stdout",
     "output_type": "stream",
     "text": [
      "2\n",
      "2\n",
      "4\n",
      "5\n"
     ]
    }
   ],
   "source": [
    "# go to every student and just randomly generate category before distributing papers :P\n",
    "print(Student.get_random_catagory(5))\n",
    "print(Student.get_random_catagory(5))\n",
    "print(Student.get_random_catagory(5))\n",
    "print(Student.get_random_catagory(5))"
   ]
  },
  {
   "cell_type": "code",
   "execution_count": null,
   "metadata": {},
   "outputs": [],
   "source": []
  }
 ],
 "metadata": {
  "kernelspec": {
   "display_name": "Python 3",
   "language": "python",
   "name": "python3"
  },
  "language_info": {
   "codemirror_mode": {
    "name": "ipython",
    "version": 3
   },
   "file_extension": ".py",
   "mimetype": "text/x-python",
   "name": "python",
   "nbconvert_exporter": "python",
   "pygments_lexer": "ipython3",
   "version": "3.6.2"
  }
 },
 "nbformat": 4,
 "nbformat_minor": 2
}
