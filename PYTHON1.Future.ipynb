{
 "cells": [
  {
   "cell_type": "code",
   "execution_count": 2,
   "metadata": {},
   "outputs": [],
   "source": [
    "from __future__ import division\n",
    "from __future__ import print_function\n",
    "from __future__ import absolute_import\n",
    "\n",
    "# With __future__ module's inclusion,\n",
    "# you can slowly be accustomed to features/keywords fucionality from future python versions\n",
    "\n",
    "import sys, os, time\n",
    "import string #absolute_import"
   ]
  },
  {
   "cell_type": "code",
   "execution_count": 4,
   "metadata": {},
   "outputs": [
    {
     "name": "stdout",
     "output_type": "stream",
     "text": [
      "Hello----World----0\n",
      "\n",
      "Hello----World----1\n",
      "\n",
      "Hello----World----2\n",
      "\n",
      "Hello----World----3\n",
      "\n",
      "Hello----World----4\n",
      "\n",
      "Hello----World----5\n",
      "\n",
      "Hello----World----6\n",
      "\n",
      "Hello----World----7\n",
      "\n",
      "Hello----World----8\n",
      "\n",
      "Hello----World----9\n",
      "\n"
     ]
    }
   ],
   "source": [
    "for x in range(0,10):\n",
    "    print(\"Hello\", \"World\",x , sep='----', end='\\n\\n')  # this type of print supported python 3, \n",
    "    #but with imported future print_function this statement is functional in older python version too\n",
    "    time.sleep(1)\n",
    "\n"
   ]
  },
  {
   "cell_type": "code",
   "execution_count": null,
   "metadata": {},
   "outputs": [],
   "source": [
    "print(8/7)  # prints 1.1428571428571428\n",
    "print(8//7) # prints 1\n",
    "\n",
    "\n",
    "\n",
    "print(string.ascii_uppercase) #string\n"
   ]
  }
 ],
 "metadata": {
  "kernelspec": {
   "display_name": "Python 3",
   "language": "python",
   "name": "python3"
  },
  "language_info": {
   "codemirror_mode": {
    "name": "ipython",
    "version": 3
   },
   "file_extension": ".py",
   "mimetype": "text/x-python",
   "name": "python",
   "nbconvert_exporter": "python",
   "pygments_lexer": "ipython3",
   "version": "3.6.2"
  }
 },
 "nbformat": 4,
 "nbformat_minor": 2
}
