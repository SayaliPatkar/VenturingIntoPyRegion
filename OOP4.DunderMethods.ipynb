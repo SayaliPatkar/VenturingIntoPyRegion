{
 "cells": [
  {
   "cell_type": "code",
   "execution_count": 1,
   "metadata": {},
   "outputs": [
    {
     "name": "stdout",
     "output_type": "stream",
     "text": [
      "<__main__.Student object at 0x000002101978CA90>\n"
     ]
    }
   ],
   "source": [
    "# Classes are blueprints describing proprties (attributes) and behaviours (methods) of an object\n",
    "class Student:\n",
    "    # class variables\n",
    "    num_students = 0 # to be raised for every new instance as soon as instance is created\n",
    "    fee_raise = 1.02 # default 2% raise in fees every year\n",
    "    \n",
    "    # constructin dunder method __init__\n",
    "    def __init__ (self, first, last, grade, fees):\n",
    "        self.first = first\n",
    "        self.last = last\n",
    "        self.grade = grade\n",
    "        self.fees = fees\n",
    "        self.email = first + '.' + last + '@university.com'\n",
    "        \n",
    "        # here we do not use self.num_students as \n",
    "        # we need this variable to increment for every new instance and should be same for all instances at any given time\n",
    "        Student.num_students += 1\n",
    "        \n",
    "    # every class method has minimum one argument self\n",
    "    def fullname(self):\n",
    "        return '{} {}'.format(self.first, self.last)\n",
    "    \n",
    "    def revised_fees(self):\n",
    "        return self.fees * self.fee_raise\n",
    "    \n",
    "s1 = Student('Imaginary','Intelligent','1', 100)\n",
    "# shall print default string representation of Object\n",
    "# but by declaring custom __repr__() and __str__() methods, this representation can be altered\n",
    "# print will first search for __str__(), when not found, fall back to _repr__()\n",
    "print(s1)\n"
   ]
  },
  {
   "cell_type": "code",
   "execution_count": 2,
   "metadata": {},
   "outputs": [
    {
     "name": "stdout",
     "output_type": "stream",
     "text": [
      "Student('Imaginary','Intelligent','1', 100)\n"
     ]
    }
   ],
   "source": [
    "# Classes are blueprints describing proprties (attributes) and behaviours (methods) of an object\n",
    "class Student:\n",
    "    # class variables\n",
    "    num_students = 0 # to be raised for every new instance as soon as instance is created\n",
    "    fee_raise = 1.02 # default 2% raise in fees every year\n",
    "    \n",
    "    # constructin dunder method __init__\n",
    "    def __init__ (self, first, last, grade, fees):\n",
    "        self.first = first\n",
    "        self.last = last\n",
    "        self.grade = grade\n",
    "        self.fees = fees\n",
    "        self.email = first + '.' + last + '@university.com'\n",
    "        \n",
    "        # here we do not use self.num_students as \n",
    "        # we need this variable to increment for every new instance and should be same for all instances at any given time\n",
    "        Student.num_students += 1\n",
    "        \n",
    "    # every class method has minimum one argument self\n",
    "    def fullname(self):\n",
    "        return '{} {}'.format(self.first, self.last)\n",
    "    \n",
    "    def revised_fees(self):\n",
    "        return self.fees * self.fee_raise\n",
    "    \n",
    "    # generaally used for custom representation of object for other developers\n",
    "    def __repr__(self):\n",
    "        return \"Student('{}','{}','{}', {})\".format(self.first, self.last, self.grade, self.fees)\n",
    "    \n",
    "s1 = Student('Imaginary','Intelligent','1', 100)\n",
    "\n",
    "# print will first search for __str__(), when not found, fall back to _repr__()\n",
    "print(s1)"
   ]
  },
  {
   "cell_type": "code",
   "execution_count": 4,
   "metadata": {},
   "outputs": [
    {
     "name": "stdout",
     "output_type": "stream",
     "text": [
      "Imaginary Intelligent - Imaginary.Intelligent@university.com\n",
      "Imaginary Intelligent - Imaginary.Intelligent@university.com\n",
      "Student('Imaginary','Intelligent','1', 100)\n",
      "Imaginary Intelligent - Imaginary.Intelligent@university.com\n",
      "Student('Imaginary','Intelligent','1', 100)\n"
     ]
    }
   ],
   "source": [
    "# Classes are blueprints describing proprties (attributes) and behaviours (methods) of an object\n",
    "class Student:\n",
    "    # class variables\n",
    "    num_students = 0 # to be raised for every new instance as soon as instance is created\n",
    "    fee_raise = 1.02 # default 2% raise in fees every year\n",
    "    \n",
    "    # constructin dunder method __init__\n",
    "    def __init__ (self, first, last, grade, fees):\n",
    "        self.first = first\n",
    "        self.last = last\n",
    "        self.grade = grade\n",
    "        self.fees = fees\n",
    "        self.email = first + '.' + last + '@university.com'\n",
    "        \n",
    "        # here we do not use self.num_students as \n",
    "        # we need this variable to increment for every new instance and should be same for all instances at any given time\n",
    "        Student.num_students += 1\n",
    "        \n",
    "    # every class method has minimum one argument self\n",
    "    def fullname(self):\n",
    "        return '{} {}'.format(self.first, self.last)\n",
    "    \n",
    "    def revised_fees(self):\n",
    "        return self.fees * self.fee_raise\n",
    "    \n",
    "    # generaally used for custom representation of object for other developers\n",
    "    def __repr__(self):\n",
    "        return \"Student('{}','{}','{}', {})\".format(self.first, self.last, self.grade, self.fees)\n",
    "    \n",
    "    # generaally used for custom representation of object for customer\n",
    "    def __str__(self):\n",
    "        return \"{} - {}\".format(self.fullname(), self.email)\n",
    "    \n",
    "s1 = Student('Imaginary','Intelligent','1', 100)\n",
    "\n",
    "# print will fall back to _str__()\n",
    "print(s1)\n",
    "\n",
    "#obviously __str__() and __repr__() could be specifically called\n",
    "print(s1.__str__())\n",
    "print(s1.__repr__())\n",
    "print(Student.__str__(s1))\n",
    "print(Student.__repr__(s1))"
   ]
  },
  {
   "cell_type": "code",
   "execution_count": 5,
   "metadata": {},
   "outputs": [
    {
     "name": "stdout",
     "output_type": "stream",
     "text": [
      "300\n"
     ]
    }
   ],
   "source": [
    "# Classes are blueprints describing proprties (attributes) and behaviours (methods) of an object\n",
    "class Student:\n",
    "    # class variables\n",
    "    num_students = 0 # to be raised for every new instance as soon as instance is created\n",
    "    fee_raise = 1.02 # default 2% raise in fees every year\n",
    "    \n",
    "    # constructin dunder method __init__\n",
    "    def __init__ (self, first, last, grade, fees):\n",
    "        self.first = first\n",
    "        self.last = last\n",
    "        self.grade = grade\n",
    "        self.fees = fees\n",
    "        self.email = first + '.' + last + '@university.com'\n",
    "        \n",
    "        # here we do not use self.num_students as \n",
    "        # we need this variable to increment for every new instance and should be same for all instances at any given time\n",
    "        Student.num_students += 1\n",
    "        \n",
    "    # every class method has minimum one argument self\n",
    "    def fullname(self):\n",
    "        return '{} {}'.format(self.first, self.last)\n",
    "    \n",
    "    def revised_fees(self):\n",
    "        return self.fees * self.fee_raise\n",
    "    \n",
    "    # generaally used for custom representation of object for other developers\n",
    "    def __repr__(self):\n",
    "        return \"Student('{}','{}','{}', {})\".format(self.first, self.last, self.grade, self.fees)\n",
    "    \n",
    "    # generaally used for custom representation of object for customer\n",
    "    def __str__(self):\n",
    "        return \"{} - {}\".format(self.fullname(), self.email)\n",
    "    \n",
    "    def __add__(self, other):\n",
    "        return self.fees + other.fees\n",
    "    \n",
    "s1 = Student('Sayali','Patkar','1.7', 200)\n",
    "s2 = Student('Imaginary','Intelligent','1', 100)\n",
    "\n",
    "# __add__() defines what kind of operations to do when we add two students\n",
    "print(s1 + s2)\n"
   ]
  },
  {
   "cell_type": "code",
   "execution_count": null,
   "metadata": {},
   "outputs": [],
   "source": []
  }
 ],
 "metadata": {
  "kernelspec": {
   "display_name": "Python 3",
   "language": "python",
   "name": "python3"
  },
  "language_info": {
   "codemirror_mode": {
    "name": "ipython",
    "version": 3
   },
   "file_extension": ".py",
   "mimetype": "text/x-python",
   "name": "python",
   "nbconvert_exporter": "python",
   "pygments_lexer": "ipython3",
   "version": "3.6.2"
  }
 },
 "nbformat": 4,
 "nbformat_minor": 2
}
