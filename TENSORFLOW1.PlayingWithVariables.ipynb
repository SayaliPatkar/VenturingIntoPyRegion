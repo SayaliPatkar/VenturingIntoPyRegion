{
 "cells": [
  {
   "cell_type": "code",
   "execution_count": 1,
   "metadata": {},
   "outputs": [],
   "source": [
    "import tensorflow as tf\n",
    "import numpy as np\n",
    "import os"
   ]
  },
  {
   "cell_type": "code",
   "execution_count": 2,
   "metadata": {},
   "outputs": [],
   "source": [
    "#---------------------------------------------Constants---------------------------------------------\n",
    "\n",
    "v = tf.constant (35, name='v' )\n",
    "# Array of shape [2,3], having same variable value 4\n",
    "w = tf.constant(4, dtype = 'float64', name='w',shape= [2,3] )\n",
    "x = tf.constant([1.,2.,3.], shape=[3,1], dtype = 'float64', name='x' )\n",
    "# if you dont give shape explicitly [4., 5. ,6.] it will be initialized with shape=(3,)\n",
    "# this is proper way to do it\n",
    "y = tf.constant([[4.,5.,6.]], dtype = 'float64', name='y')\n",
    "\n",
    "#---------------------------------------------Variables---------------------------------------------\n",
    "t = tf.Variable ( v + 5, name='t' )\n",
    "# empty\n",
    "emp = tf.Variable([3,3], dtype = tf.float32, name='emp')\n",
    "#very handy for weight initialization, as 0 initialization of weight is never desorable\n",
    "weights = tf.Variable(tf.random_normal([3,3], mean=0.0, stddev=0.35, dtype=tf.float64),\n",
    "                      name=\"weights\" )\n",
    "zero_var1 = tf.zeros([2,2], dtype= tf.float64, name = \"zero_var1\")\n",
    "zero_var2 = tf.zeros_like(weights, name = \"zero_var2\")\n",
    "\n",
    "# y=5*x^2−3*x+15 1000 examples and visualise the graph\n",
    "# As a general rule, NumPy should be used for larger lists/arrays of numbers,\n",
    "# as it is significantly more memory efficient and faster to compute on than lists\n",
    "x1 = np.random.randint ( 100, size=10000 )\n",
    "# write a code to operation first and actually calculate later\n",
    "y1 = tf.Variable ( 5*tf.pow( x1, 2 ) - 3*x1 + 15 , name='y' )\n",
    "\n",
    "init_op = tf.global_variables_initializer()\n",
    "\n",
    "#---------------------------------------------Placeholder-----------------------------------------------\n",
    "#for placeholder value needs to be feeded as we run session\n",
    "placeholder_var = tf.placeholder(tf.float32, shape=(2, 2))\n",
    "mul = tf.matmul(placeholder_var, placeholder_var)\n"
   ]
  },
  {
   "cell_type": "code",
   "execution_count": 3,
   "metadata": {},
   "outputs": [
    {
     "name": "stdout",
     "output_type": "stream",
     "text": [
      "The value of w is :  [[4. 4. 4.]\n",
      " [4. 4. 4.]]\n",
      "The value of x is :  [[1.]\n",
      " [2.]\n",
      " [3.]]\n",
      "The value of x is :  Tensor(\"x:0\", shape=(3, 1), dtype=float64)\n",
      "The value of y is :  [[4. 5. 6.]]\n",
      "The value of y is :  Tensor(\"y:0\", shape=(1, 3), dtype=float64)\n",
      "The value of v is :  35\n",
      "The value of v is :  Tensor(\"v:0\", shape=(), dtype=int32)\n",
      "The value of zero_var1 is :  Tensor(\"zero_var1:0\", shape=(2, 2), dtype=float64)\n",
      "The value of zero_var1 is :  [[0. 0.]\n",
      " [0. 0.]]\n",
      "The value of zero_var2 is :  [[0. 0. 0.]\n",
      " [0. 0. 0.]\n",
      " [0. 0. 0.]]\n",
      "The value of weights is :  [[ 0.20147339 -0.03023946  0.06662837]\n",
      " [ 0.71927597  0.36016245  0.08493031]\n",
      " [-0.33945687 -0.23513824 -0.00639833]]\n",
      "The value of emp is :  [3. 3.]\n",
      "The value of [[1,2],[3,4]] * [[1,2],[3,4]] in session scope :  [array([[ 7., 10.],\n",
      "       [15., 22.]], dtype=float32)]\n",
      "[23613  3317  2157 ...  8709 12365  1581]\n"
     ]
    }
   ],
   "source": [
    "with tf.Session() as session:\n",
    "    print(\"The value of w is : \", session.run(w))\n",
    "    print(\"The value of x is : \", session.run(x))\n",
    "    print(\"The value of x is : \", x)\n",
    "\n",
    "    print(\"The value of y is : \", session.run(y))\n",
    "    print(\"The value of y is : \", y)\n",
    "\n",
    "    print(\"The value of v is : \", session.run(v))\n",
    "    print(\"The value of v is : \", v)\n",
    "\n",
    "    # All the variables are uninitialized here , hence following print will not work\n",
    "    #print(\"The value of weights is : \", session.run(weights))\n",
    "    #print(\"The value of emp is : \", session.run(emp))\n",
    "\n",
    "    session.run(init_op)\n",
    "    print(\"The value of zero_var1 is : \", zero_var1)\n",
    "    print(\"The value of zero_var1 is : \", session.run(zero_var1))\n",
    "    print(\"The value of zero_var2 is : \", session.run(zero_var2))\n",
    "    print(\"The value of weights is : \", session.run(weights))\n",
    "    print(\"The value of emp is : \", session.run(emp))\n",
    "\n",
    "\n",
    "    os.system(\"pause\")\n",
    "    n = np.array([[1,2],[3,4]])\n",
    "    result = session.run([mul],feed_dict={ placeholder_var : n})\n",
    "    print(\"The value of [[1,2],[3,4]] * [[1,2],[3,4]] in session scope : \", result )\n",
    "\n",
    "    os.system(\"pause\")\n",
    "    merged = tf.summary.merge_all()\n",
    "    # run tensorboard --logdir=D:\\tmp\\basic on windows cmd\n",
    "    writer = tf.summary.FileWriter(\"/tmp/basic\", graph=tf.get_default_graph())\n",
    "\n",
    "    print(session.run(y1))\n"
   ]
  },
  {
   "cell_type": "code",
   "execution_count": null,
   "metadata": {},
   "outputs": [],
   "source": []
  }
 ],
 "metadata": {
  "kernelspec": {
   "display_name": "Python 3",
   "language": "python",
   "name": "python3"
  },
  "language_info": {
   "codemirror_mode": {
    "name": "ipython",
    "version": 3
   },
   "file_extension": ".py",
   "mimetype": "text/x-python",
   "name": "python",
   "nbconvert_exporter": "python",
   "pygments_lexer": "ipython3",
   "version": "3.6.2"
  }
 },
 "nbformat": 4,
 "nbformat_minor": 2
}
