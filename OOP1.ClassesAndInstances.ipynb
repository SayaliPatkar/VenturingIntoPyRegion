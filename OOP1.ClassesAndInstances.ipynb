{
 "cells": [
  {
   "cell_type": "code",
   "execution_count": 21,
   "metadata": {},
   "outputs": [],
   "source": [
    "# Classes are blueprints describing proprties (attributes) and behaviours (methods) of an object\n",
    "class Student:\n",
    "    # class variables\n",
    "    num_students = 0 # to be raised for every new instance as soon as instance is created\n",
    "    fee_raise = 1.02 # default 2% raise in fees every year\n",
    "    \n",
    "    # constructin dunder method __init__\n",
    "    def __init__ (self, first, last, grade, fees):\n",
    "        self.first = first\n",
    "        self.last = last\n",
    "        self.grade = grade\n",
    "        self.fees = fees\n",
    "        self.email = first + '.' + last + '@university.com'\n",
    "        \n",
    "        # here we do not use self.num_students as \n",
    "        # we need this variable to increment for every new instance and should be same for all instances at any given time\n",
    "        Student.num_students += 1\n",
    "        \n",
    "    # every class method has minimum one argument self\n",
    "    def fullname(self):\n",
    "        return '{} {}'.format(self.first, self.last)\n",
    "    \n",
    "    def revised_fees(self):\n",
    "        return self.fees * self.fee_raise"
   ]
  },
  {
   "cell_type": "code",
   "execution_count": 22,
   "metadata": {},
   "outputs": [
    {
     "name": "stdout",
     "output_type": "stream",
     "text": [
      "Sayali.Patkar@university.com\n",
      "Imaginary.Intelligent@university.com\n"
     ]
    }
   ],
   "source": [
    "s1 = Student('Sayali','Patkar','1.7', 200)\n",
    "s2 = Student('Imaginary','Intelligent','1', 100)\n",
    "print(s1.email)\n",
    "print(s2.email)"
   ]
  },
  {
   "cell_type": "code",
   "execution_count": 23,
   "metadata": {},
   "outputs": [
    {
     "name": "stdout",
     "output_type": "stream",
     "text": [
      "Sayali Patkar\n",
      "Imaginary Intelligent\n"
     ]
    }
   ],
   "source": [
    "# Instance s1 is now being passed as argument 1 for fullname()\n",
    "print(s1.fullname())\n",
    "\n",
    "# Alternative, actually passing s2 instance as argument\n",
    "# This is what is happening at background if after running s2.fullname()\n",
    "print(Student.fullname(s2))\n",
    "\n"
   ]
  },
  {
   "cell_type": "code",
   "execution_count": 24,
   "metadata": {},
   "outputs": [
    {
     "name": "stdout",
     "output_type": "stream",
     "text": [
      "{'__module__': '__main__', 'num_students': 2, 'fee_raise': 1.02, '__init__': <function Student.__init__ at 0x0000012D563B7598>, 'fullname': <function Student.fullname at 0x0000012D563B7730>, 'revised_fees': <function Student.revised_fees at 0x0000012D563A6B70>, '__dict__': <attribute '__dict__' of 'Student' objects>, '__weakref__': <attribute '__weakref__' of 'Student' objects>, '__doc__': None}\n",
      "{'first': 'Sayali', 'last': 'Patkar', 'grade': '1.7', 'fees': 200, 'email': 'Sayali.Patkar@university.com'}\n",
      "{'first': 'Imaginary', 'last': 'Intelligent', 'grade': '1', 'fees': 100, 'email': 'Imaginary.Intelligent@university.com'}\n",
      "1.02\n",
      "1.02\n",
      "1.02\n"
     ]
    }
   ],
   "source": [
    "# __dict__ is a specific dictionary that exists for each Python object, and contains the attributes of that object and their values. \n",
    "print(Student.__dict__)\n",
    "# note that class variables are not printed \n",
    "print(s1.__dict__)\n",
    "print(s2.__dict__)\n",
    "\n",
    "\n",
    "print(Student.fee_raise)\n",
    "\n",
    "# here s1 and s2 still have fee raise.  \n",
    "# Even though the instances do not have these attributes, the class to which instance belongs does have them\n",
    "print(s1.fee_raise)\n",
    "print(s2.fee_raise)"
   ]
  },
  {
   "cell_type": "code",
   "execution_count": 26,
   "metadata": {},
   "outputs": [
    {
     "name": "stdout",
     "output_type": "stream",
     "text": [
      "{'first': 'Sayali', 'last': 'Patkar', 'grade': '1.7', 'fees': 200, 'email': 'Sayali.Patkar@university.com', 'fee_raise': 1.01}\n",
      "{'first': 'Imaginary', 'last': 'Intelligent', 'grade': '1', 'fees': 100, 'email': 'Imaginary.Intelligent@university.com'}\n",
      "1.01\n",
      "1.02\n"
     ]
    }
   ],
   "source": [
    "# Special case with only 1 % fee raise\n",
    "s1.fee_raise = 1.01\n",
    "\n",
    "# now fee_raise also becomes instance attribute for s1 but still not for s2\n",
    "print(s1.__dict__)\n",
    "print(s2.__dict__)\n",
    "\n",
    "# here s1 and s2 still have fee raise.  \n",
    "# Even though the instances do not have these attributes, the class to which instance belongs does have them\n",
    "print(s1.fee_raise)\n",
    "print(s2.fee_raise)"
   ]
  },
  {
   "cell_type": "code",
   "execution_count": 28,
   "metadata": {},
   "outputs": [
    {
     "name": "stdout",
     "output_type": "stream",
     "text": [
      "2\n",
      "2\n",
      "2\n",
      "3\n",
      "3\n",
      "3\n"
     ]
    }
   ],
   "source": [
    "# however for both s1 and s2 num_students will vary simultaneously\n",
    "print(Student.num_students)\n",
    "print(s1.num_students)\n",
    "print(s1.num_students)\n",
    "\n",
    "s3 = Student('Imaginary','Average','2.7', 300)\n",
    "\n",
    "\n",
    "print(Student.num_students)\n",
    "print(s1.num_students)\n",
    "print(s1.num_students)\n"
   ]
  },
  {
   "cell_type": "code",
   "execution_count": null,
   "metadata": {},
   "outputs": [],
   "source": []
  }
 ],
 "metadata": {
  "kernelspec": {
   "display_name": "Python 3",
   "language": "python",
   "name": "python3"
  },
  "language_info": {
   "codemirror_mode": {
    "name": "ipython",
    "version": 3
   },
   "file_extension": ".py",
   "mimetype": "text/x-python",
   "name": "python",
   "nbconvert_exporter": "python",
   "pygments_lexer": "ipython3",
   "version": "3.6.2"
  }
 },
 "nbformat": 4,
 "nbformat_minor": 2
}
